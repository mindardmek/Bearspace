{
 "cells": [
  {
   "cell_type": "code",
   "execution_count": 46,
   "id": "98aa9591",
   "metadata": {},
   "outputs": [],
   "source": [
    "import pandas as pd\n",
    "import re\n"
   ]
  },
  {
   "cell_type": "code",
   "execution_count": 59,
   "id": "edfb3a7a",
   "metadata": {},
   "outputs": [],
   "source": [
    "df = pd.read_csv('items1.csv', encoding='utf-8')\n"
   ]
  },
  {
   "cell_type": "code",
   "execution_count": 60,
   "id": "b892c978",
   "metadata": {},
   "outputs": [
    {
     "data": {
      "text/html": [
       "<div>\n",
       "<style scoped>\n",
       "    .dataframe tbody tr th:only-of-type {\n",
       "        vertical-align: middle;\n",
       "    }\n",
       "\n",
       "    .dataframe tbody tr th {\n",
       "        vertical-align: top;\n",
       "    }\n",
       "\n",
       "    .dataframe thead th {\n",
       "        text-align: right;\n",
       "    }\n",
       "</style>\n",
       "<table border=\"1\" class=\"dataframe\">\n",
       "  <thead>\n",
       "    <tr style=\"text-align: right;\">\n",
       "      <th></th>\n",
       "      <th>height_cm</th>\n",
       "      <th>media</th>\n",
       "      <th>price_gbp</th>\n",
       "      <th>product_url</th>\n",
       "      <th>title</th>\n",
       "      <th>width_cm</th>\n",
       "    </tr>\n",
       "  </thead>\n",
       "  <tbody>\n",
       "    <tr>\n",
       "      <th>0</th>\n",
       "      <td>Oil paint &amp; spray paint on board,30 X40 cm,</td>\n",
       "      <td>Oil paint &amp; spray paint on board,30 X40 cm,</td>\n",
       "      <td>£0.00</td>\n",
       "      <td>https://www.bearspace.co.uk/product-page/hurri...</td>\n",
       "      <td>Hurricane by Lucy Baker</td>\n",
       "      <td>Oil paint &amp; spray paint on board,30 X40 cm,</td>\n",
       "    </tr>\n",
       "    <tr>\n",
       "      <th>1</th>\n",
       "      <td>Digital print under acrylic with subframe,60cm...</td>\n",
       "      <td>Digital print under acrylic with subframe,60cm...</td>\n",
       "      <td>£490.00</td>\n",
       "      <td>https://www.bearspace.co.uk/product-page/porta...</td>\n",
       "      <td>Portal 7 by Jane Ward</td>\n",
       "      <td>Digital print under acrylic with subframe,60cm...</td>\n",
       "    </tr>\n",
       "    <tr>\n",
       "      <th>2</th>\n",
       "      <td>Digital print under acrylic with subframe,60cm...</td>\n",
       "      <td>Digital print under acrylic with subframe,60cm...</td>\n",
       "      <td>£490.00</td>\n",
       "      <td>https://www.bearspace.co.uk/product-page/porta...</td>\n",
       "      <td>Portal 8 by Jane Ward</td>\n",
       "      <td>Digital print under acrylic with subframe,60cm...</td>\n",
       "    </tr>\n",
       "    <tr>\n",
       "      <th>3</th>\n",
       "      <td>Digital print under acrylic with subframe,60cm...</td>\n",
       "      <td>Digital print under acrylic with subframe,60cm...</td>\n",
       "      <td>£490.00</td>\n",
       "      <td>https://www.bearspace.co.uk/product-page/porta...</td>\n",
       "      <td>Portal 9 by Jane Ward</td>\n",
       "      <td>Digital print under acrylic with subframe,60cm...</td>\n",
       "    </tr>\n",
       "    <tr>\n",
       "      <th>4</th>\n",
       "      <td>Oil with charcoal, watercolour and sand on can...</td>\n",
       "      <td>Oil with charcoal, watercolour and sand on can...</td>\n",
       "      <td>£1,400.00</td>\n",
       "      <td>https://www.bearspace.co.uk/product-page/as-th...</td>\n",
       "      <td>As The Tide Turned by Dominic Bradnum</td>\n",
       "      <td>Oil with charcoal, watercolour and sand on can...</td>\n",
       "    </tr>\n",
       "    <tr>\n",
       "      <th>5</th>\n",
       "      <td>oil on canvas with charcoal, watercolour and p...</td>\n",
       "      <td>oil on canvas with charcoal, watercolour and p...</td>\n",
       "      <td>£640.00</td>\n",
       "      <td>https://www.bearspace.co.uk/product-page/you-t...</td>\n",
       "      <td>You Took My Breath Away by Dominic Bradnum</td>\n",
       "      <td>oil on canvas with charcoal, watercolour and p...</td>\n",
       "    </tr>\n",
       "    <tr>\n",
       "      <th>6</th>\n",
       "      <td>Inkjet Print (Hahnemuhle Ultra-Smooth),40.7 x ...</td>\n",
       "      <td>Inkjet Print (Hahnemuhle Ultra-Smooth),40.7 x ...</td>\n",
       "      <td>£400.00</td>\n",
       "      <td>https://www.bearspace.co.uk/product-page/balan...</td>\n",
       "      <td>Balancing Acts I by Elise Wootten</td>\n",
       "      <td>Inkjet Print (Hahnemuhle Ultra-Smooth),40.7 x ...</td>\n",
       "    </tr>\n",
       "    <tr>\n",
       "      <th>7</th>\n",
       "      <td>Inkjet Print (Hahnemuhle Ultra-Smooth),40.7 x ...</td>\n",
       "      <td>Inkjet Print (Hahnemuhle Ultra-Smooth),40.7 x ...</td>\n",
       "      <td>£400.00</td>\n",
       "      <td>https://www.bearspace.co.uk/product-page/balan...</td>\n",
       "      <td>Balancing Acts II by Elise Wootten</td>\n",
       "      <td>Inkjet Print (Hahnemuhle Ultra-Smooth),40.7 x ...</td>\n",
       "    </tr>\n",
       "    <tr>\n",
       "      <th>8</th>\n",
       "      <td>Inkjet Print (Hahnemuhle Ultra-Smooth),40.7 x ...</td>\n",
       "      <td>Inkjet Print (Hahnemuhle Ultra-Smooth),40.7 x ...</td>\n",
       "      <td>£400.00</td>\n",
       "      <td>https://www.bearspace.co.uk/product-page/balan...</td>\n",
       "      <td>Balancing Acts III by Elise Wootten</td>\n",
       "      <td>Inkjet Print (Hahnemuhle Ultra-Smooth),40.7 x ...</td>\n",
       "    </tr>\n",
       "    <tr>\n",
       "      <th>9</th>\n",
       "      <td>Inkjet Print (Hahnemuhle Ultra-Smooth),40.7 x ...</td>\n",
       "      <td>Inkjet Print (Hahnemuhle Ultra-Smooth),40.7 x ...</td>\n",
       "      <td>£400.00</td>\n",
       "      <td>https://www.bearspace.co.uk/product-page/balan...</td>\n",
       "      <td>Balancing Acts IV by Elise Wootten</td>\n",
       "      <td>Inkjet Print (Hahnemuhle Ultra-Smooth),40.7 x ...</td>\n",
       "    </tr>\n",
       "    <tr>\n",
       "      <th>10</th>\n",
       "      <td>Inkjet Print (Hahnemuhle Ultra-Smooth),40.7 x ...</td>\n",
       "      <td>Inkjet Print (Hahnemuhle Ultra-Smooth),40.7 x ...</td>\n",
       "      <td>£340.00</td>\n",
       "      <td>https://www.bearspace.co.uk/product-page/balan...</td>\n",
       "      <td>Balancing Acts V by Elise Wootten</td>\n",
       "      <td>Inkjet Print (Hahnemuhle Ultra-Smooth),40.7 x ...</td>\n",
       "    </tr>\n",
       "    <tr>\n",
       "      <th>11</th>\n",
       "      <td>Aluminium, Inkjet Vinyl Print,74 x 88 cm,2019,...</td>\n",
       "      <td>Aluminium, Inkjet Vinyl Print,74 x 88 cm,2019,...</td>\n",
       "      <td>£640.00</td>\n",
       "      <td>https://www.bearspace.co.uk/product-page/somew...</td>\n",
       "      <td>Somewhat Confusing I by Elise Wootten</td>\n",
       "      <td>Aluminium, Inkjet Vinyl Print,74 x 88 cm,2019,...</td>\n",
       "    </tr>\n",
       "    <tr>\n",
       "      <th>12</th>\n",
       "      <td>Aluminium, Inkjet Vinyl Print,75 x 89 cm,2019,...</td>\n",
       "      <td>Aluminium, Inkjet Vinyl Print,75 x 89 cm,2019,...</td>\n",
       "      <td>£640.00</td>\n",
       "      <td>https://www.bearspace.co.uk/product-page/somew...</td>\n",
       "      <td>Somewhat Confusing II by Elise Wootten</td>\n",
       "      <td>Aluminium, Inkjet Vinyl Print,75 x 89 cm,2019,...</td>\n",
       "    </tr>\n",
       "    <tr>\n",
       "      <th>13</th>\n",
       "      <td>Aluminium, Inkjet Vinyl Print,75 x 88,2019,Edi...</td>\n",
       "      <td>Aluminium, Inkjet Vinyl Print,75 x 88,2019,Edi...</td>\n",
       "      <td>£640.00</td>\n",
       "      <td>https://www.bearspace.co.uk/product-page/somew...</td>\n",
       "      <td>Somewhat Confusing III by Elise Wootten</td>\n",
       "      <td>Aluminium, Inkjet Vinyl Print,75 x 88,2019,Edi...</td>\n",
       "    </tr>\n",
       "    <tr>\n",
       "      <th>14</th>\n",
       "      <td>Set of four,Beech, Mdf, Acrylic paint, Vinyl,4...</td>\n",
       "      <td>Set of four,Beech, Mdf, Acrylic paint, Vinyl,4...</td>\n",
       "      <td>£1,200.00</td>\n",
       "      <td>https://www.bearspace.co.uk/product-page/all-r...</td>\n",
       "      <td>All Recognisable Entities by Elise Wootten</td>\n",
       "      <td>Set of four,Beech, Mdf, Acrylic paint, Vinyl,4...</td>\n",
       "    </tr>\n",
       "    <tr>\n",
       "      <th>15</th>\n",
       "      <td>Archival digital print on canvas with dissolve...</td>\n",
       "      <td>Archival digital print on canvas with dissolve...</td>\n",
       "      <td>£1,400.00</td>\n",
       "      <td>https://www.bearspace.co.uk/product-page/to-th...</td>\n",
       "      <td>To The Zenith's Height by Jane Ward</td>\n",
       "      <td>Archival digital print on canvas with dissolve...</td>\n",
       "    </tr>\n",
       "    <tr>\n",
       "      <th>16</th>\n",
       "      <td>Archival digital print on canvas with dissolve...</td>\n",
       "      <td>Archival digital print on canvas with dissolve...</td>\n",
       "      <td>£1,400.00</td>\n",
       "      <td>https://www.bearspace.co.uk/product-page/the-e...</td>\n",
       "      <td>The Ephemeral Isles by Jane Ward</td>\n",
       "      <td>Archival digital print on canvas with dissolve...</td>\n",
       "    </tr>\n",
       "    <tr>\n",
       "      <th>17</th>\n",
       "      <td>oil with charcoal, watercolour and pencil on c...</td>\n",
       "      <td>oil with charcoal, watercolour and pencil on c...</td>\n",
       "      <td>£640.00</td>\n",
       "      <td>https://www.bearspace.co.uk/product-page/morni...</td>\n",
       "      <td>Morning Came by Dominic Bradnum</td>\n",
       "      <td>oil with charcoal, watercolour and pencil on c...</td>\n",
       "    </tr>\n",
       "    <tr>\n",
       "      <th>18</th>\n",
       "      <td>16cm x 14cm,24k gold leaf, crystal, iron and w...</td>\n",
       "      <td>16cm x 14cm,24k gold leaf, crystal, iron and w...</td>\n",
       "      <td>£440.00</td>\n",
       "      <td>https://www.bearspace.co.uk/product-page/kin-b...</td>\n",
       "      <td>Kin by Vic Wright</td>\n",
       "      <td>16cm x 14cm,24k gold leaf, crystal, iron and w...</td>\n",
       "    </tr>\n",
       "    <tr>\n",
       "      <th>19</th>\n",
       "      <td>Oil paint, spray paint &amp; gold leaf on board,42...</td>\n",
       "      <td>Oil paint, spray paint &amp; gold leaf on board,42...</td>\n",
       "      <td>£340.00</td>\n",
       "      <td>https://www.bearspace.co.uk/product-page/anoth...</td>\n",
       "      <td>Another Sunset by Lucy Baker</td>\n",
       "      <td>Oil paint, spray paint &amp; gold leaf on board,42...</td>\n",
       "    </tr>\n",
       "  </tbody>\n",
       "</table>\n",
       "</div>"
      ],
      "text/plain": [
       "                                            height_cm  \\\n",
       "0        Oil paint & spray paint on board,30 X40 cm,    \n",
       "1   Digital print under acrylic with subframe,60cm...   \n",
       "2   Digital print under acrylic with subframe,60cm...   \n",
       "3   Digital print under acrylic with subframe,60cm...   \n",
       "4   Oil with charcoal, watercolour and sand on can...   \n",
       "5   oil on canvas with charcoal, watercolour and p...   \n",
       "6   Inkjet Print (Hahnemuhle Ultra-Smooth),40.7 x ...   \n",
       "7   Inkjet Print (Hahnemuhle Ultra-Smooth),40.7 x ...   \n",
       "8   Inkjet Print (Hahnemuhle Ultra-Smooth),40.7 x ...   \n",
       "9   Inkjet Print (Hahnemuhle Ultra-Smooth),40.7 x ...   \n",
       "10  Inkjet Print (Hahnemuhle Ultra-Smooth),40.7 x ...   \n",
       "11  Aluminium, Inkjet Vinyl Print,74 x 88 cm,2019,...   \n",
       "12  Aluminium, Inkjet Vinyl Print,75 x 89 cm,2019,...   \n",
       "13  Aluminium, Inkjet Vinyl Print,75 x 88,2019,Edi...   \n",
       "14  Set of four,Beech, Mdf, Acrylic paint, Vinyl,4...   \n",
       "15  Archival digital print on canvas with dissolve...   \n",
       "16  Archival digital print on canvas with dissolve...   \n",
       "17  oil with charcoal, watercolour and pencil on c...   \n",
       "18  16cm x 14cm,24k gold leaf, crystal, iron and w...   \n",
       "19  Oil paint, spray paint & gold leaf on board,42...   \n",
       "\n",
       "                                                media  price_gbp  \\\n",
       "0        Oil paint & spray paint on board,30 X40 cm,       £0.00   \n",
       "1   Digital print under acrylic with subframe,60cm...    £490.00   \n",
       "2   Digital print under acrylic with subframe,60cm...    £490.00   \n",
       "3   Digital print under acrylic with subframe,60cm...    £490.00   \n",
       "4   Oil with charcoal, watercolour and sand on can...  £1,400.00   \n",
       "5   oil on canvas with charcoal, watercolour and p...    £640.00   \n",
       "6   Inkjet Print (Hahnemuhle Ultra-Smooth),40.7 x ...    £400.00   \n",
       "7   Inkjet Print (Hahnemuhle Ultra-Smooth),40.7 x ...    £400.00   \n",
       "8   Inkjet Print (Hahnemuhle Ultra-Smooth),40.7 x ...    £400.00   \n",
       "9   Inkjet Print (Hahnemuhle Ultra-Smooth),40.7 x ...    £400.00   \n",
       "10  Inkjet Print (Hahnemuhle Ultra-Smooth),40.7 x ...    £340.00   \n",
       "11  Aluminium, Inkjet Vinyl Print,74 x 88 cm,2019,...    £640.00   \n",
       "12  Aluminium, Inkjet Vinyl Print,75 x 89 cm,2019,...    £640.00   \n",
       "13  Aluminium, Inkjet Vinyl Print,75 x 88,2019,Edi...    £640.00   \n",
       "14  Set of four,Beech, Mdf, Acrylic paint, Vinyl,4...  £1,200.00   \n",
       "15  Archival digital print on canvas with dissolve...  £1,400.00   \n",
       "16  Archival digital print on canvas with dissolve...  £1,400.00   \n",
       "17  oil with charcoal, watercolour and pencil on c...    £640.00   \n",
       "18  16cm x 14cm,24k gold leaf, crystal, iron and w...    £440.00   \n",
       "19  Oil paint, spray paint & gold leaf on board,42...    £340.00   \n",
       "\n",
       "                                          product_url  \\\n",
       "0   https://www.bearspace.co.uk/product-page/hurri...   \n",
       "1   https://www.bearspace.co.uk/product-page/porta...   \n",
       "2   https://www.bearspace.co.uk/product-page/porta...   \n",
       "3   https://www.bearspace.co.uk/product-page/porta...   \n",
       "4   https://www.bearspace.co.uk/product-page/as-th...   \n",
       "5   https://www.bearspace.co.uk/product-page/you-t...   \n",
       "6   https://www.bearspace.co.uk/product-page/balan...   \n",
       "7   https://www.bearspace.co.uk/product-page/balan...   \n",
       "8   https://www.bearspace.co.uk/product-page/balan...   \n",
       "9   https://www.bearspace.co.uk/product-page/balan...   \n",
       "10  https://www.bearspace.co.uk/product-page/balan...   \n",
       "11  https://www.bearspace.co.uk/product-page/somew...   \n",
       "12  https://www.bearspace.co.uk/product-page/somew...   \n",
       "13  https://www.bearspace.co.uk/product-page/somew...   \n",
       "14  https://www.bearspace.co.uk/product-page/all-r...   \n",
       "15  https://www.bearspace.co.uk/product-page/to-th...   \n",
       "16  https://www.bearspace.co.uk/product-page/the-e...   \n",
       "17  https://www.bearspace.co.uk/product-page/morni...   \n",
       "18  https://www.bearspace.co.uk/product-page/kin-b...   \n",
       "19  https://www.bearspace.co.uk/product-page/anoth...   \n",
       "\n",
       "                                         title  \\\n",
       "0                      Hurricane by Lucy Baker   \n",
       "1                        Portal 7 by Jane Ward   \n",
       "2                        Portal 8 by Jane Ward   \n",
       "3                        Portal 9 by Jane Ward   \n",
       "4        As The Tide Turned by Dominic Bradnum   \n",
       "5   You Took My Breath Away by Dominic Bradnum   \n",
       "6            Balancing Acts I by Elise Wootten   \n",
       "7           Balancing Acts II by Elise Wootten   \n",
       "8          Balancing Acts III by Elise Wootten   \n",
       "9           Balancing Acts IV by Elise Wootten   \n",
       "10           Balancing Acts V by Elise Wootten   \n",
       "11       Somewhat Confusing I by Elise Wootten   \n",
       "12      Somewhat Confusing II by Elise Wootten   \n",
       "13     Somewhat Confusing III by Elise Wootten   \n",
       "14  All Recognisable Entities by Elise Wootten   \n",
       "15         To The Zenith's Height by Jane Ward   \n",
       "16            The Ephemeral Isles by Jane Ward   \n",
       "17             Morning Came by Dominic Bradnum   \n",
       "18                           Kin by Vic Wright   \n",
       "19                Another Sunset by Lucy Baker   \n",
       "\n",
       "                                             width_cm  \n",
       "0        Oil paint & spray paint on board,30 X40 cm,   \n",
       "1   Digital print under acrylic with subframe,60cm...  \n",
       "2   Digital print under acrylic with subframe,60cm...  \n",
       "3   Digital print under acrylic with subframe,60cm...  \n",
       "4   Oil with charcoal, watercolour and sand on can...  \n",
       "5   oil on canvas with charcoal, watercolour and p...  \n",
       "6   Inkjet Print (Hahnemuhle Ultra-Smooth),40.7 x ...  \n",
       "7   Inkjet Print (Hahnemuhle Ultra-Smooth),40.7 x ...  \n",
       "8   Inkjet Print (Hahnemuhle Ultra-Smooth),40.7 x ...  \n",
       "9   Inkjet Print (Hahnemuhle Ultra-Smooth),40.7 x ...  \n",
       "10  Inkjet Print (Hahnemuhle Ultra-Smooth),40.7 x ...  \n",
       "11  Aluminium, Inkjet Vinyl Print,74 x 88 cm,2019,...  \n",
       "12  Aluminium, Inkjet Vinyl Print,75 x 89 cm,2019,...  \n",
       "13  Aluminium, Inkjet Vinyl Print,75 x 88,2019,Edi...  \n",
       "14  Set of four,Beech, Mdf, Acrylic paint, Vinyl,4...  \n",
       "15  Archival digital print on canvas with dissolve...  \n",
       "16  Archival digital print on canvas with dissolve...  \n",
       "17  oil with charcoal, watercolour and pencil on c...  \n",
       "18  16cm x 14cm,24k gold leaf, crystal, iron and w...  \n",
       "19  Oil paint, spray paint & gold leaf on board,42...  "
      ]
     },
     "execution_count": 60,
     "metadata": {},
     "output_type": "execute_result"
    }
   ],
   "source": [
    "df.head(20)\n"
   ]
  },
  {
   "cell_type": "code",
   "execution_count": 61,
   "id": "ae1692ec",
   "metadata": {},
   "outputs": [
    {
     "data": {
      "text/plain": [
       "array(['Oil paint &\\xa0spray paint on board,30 X40 cm,\\xa0',\n",
       "       'Digital print under\\xa0acrylic with subframe,60cm \\xa0diam\\xa0,Edition of 10\\xa0,\\xa0',\n",
       "       'Digital print under\\xa0acrylic with subframe,60cm \\xa0diam\\xa0,Edition of 10\\xa0,\\xa0',\n",
       "       'Digital print under\\xa0acrylic with subframe,60cm \\xa0diam\\xa0,Edition of 10\\xa0,\\xa0',\n",
       "       'Oil with charcoal, watercolour and sand on canvas,100cm x 80cm,2019,£140 a month on the Own Art Scheme ,(please select offline payment in checkout),\\xa0,Photo credit\\xa0Steve Speller',\n",
       "       'oil on canvas with charcoal, watercolour and pencil,40x50cm,\\xa0,£64 a month on the ,Own Art Scheme,Email ,info@bearspace.co.uk, to apply online, available accross our range',\n",
       "       'Inkjet Print (Hahnemuhle Ultra-Smooth),40.7 x 50.8,2019,Edition of 5,Shown with optional frame available at additional cost',\n",
       "       'Inkjet Print (Hahnemuhle Ultra-Smooth),40.7 x 50.8,2019,Edition of 5,Shown with optional frame available at additional cost',\n",
       "       'Inkjet Print (Hahnemuhle Ultra-Smooth),40.7 x 50.8,2019,Edition of 5,Shown with optional frame available at additional cost',\n",
       "       'Inkjet Print (Hahnemuhle Ultra-Smooth),40.7 x 50.8,2019,Edition of 5,Shown with optional frame available at additional cost',\n",
       "       'Inkjet Print (Hahnemuhle Ultra-Smooth),40.7 x 50.8,2019,Edition of 5,Shown with optional frame available at additional cost',\n",
       "       'Aluminium, Inkjet Vinyl Print,74 x 88 cm,2019,Edition of 1 (original artwork)',\n",
       "       'Aluminium, Inkjet Vinyl Print,75\\xa0x 89\\xa0cm,2019,Edition of 1 (original artwork)',\n",
       "       'Aluminium, Inkjet Vinyl Print,75 x 88,2019,Edition of 1 (original artwork)',\n",
       "       'Set of four,Beech, Mdf, Acrylic paint, Vinyl,40.9 x 50.2,Edition of 1 (original artwork)',\n",
       "       'Archival digital print on canvas with dissolved canvas,90x120 cm,2018,Edition of 5,\\xa0,\\xa0',\n",
       "       'Archival digital print on canvas with dissolved canvas,90x120 cm,2018,Edition of 5,\\xa0,\\xa0',\n",
       "       'oil with charcoal, watercolour and pencil on canvas,40cm x 50cm,\\xa0,Photo credit: Steve Speller',\n",
       "       '16cm x 14cm,24k gold leaf, crystal, iron and white and grey casting cement.,\\xa0,£44 a month on the Own Art Scheme, 0% interest loan over 10 month, please ,email, for details,\\xa0,Cast in fine white and grey cement this piece has had ink applied to create texture to the surface. A piece of crystal enclusted black cement is adhered to the work. The finely extruded white cement contains iron which gives the rich patina of blue green and rust. The piece is finished with 24k goldleaf inlays.,\\xa0,Photo credit: Laura Hutchinson',\n",
       "       'Oil paint, spray paint & gold leaf on board,42x34cm,2019'],\n",
       "      dtype=object)"
      ]
     },
     "execution_count": 61,
     "metadata": {},
     "output_type": "execute_result"
    }
   ],
   "source": [
    "df['height_cm'].values\n"
   ]
  },
  {
   "cell_type": "code",
   "execution_count": 53,
   "id": "08d30b24",
   "metadata": {},
   "outputs": [
    {
     "name": "stdout",
     "output_type": "stream",
     "text": [
      "['Oil paint & spray paint on board', '30 X40 cm', '']\n",
      "[]\n"
     ]
    }
   ],
   "source": [
    "dim = 'Oil paint & spray paint on board,30 X40 cm,'\n",
    "splitted_dim = re.split(',', dim)\n",
    "print(splitted_dim)\n",
    "height = filter(lambda x: bool(re.search(r'\\d+\\s+\\d+', x)), splitted_dim)\n",
    "result = list(height)\n",
    "print(result)\n",
    "    \n",
    "    \n",
    "    \n",
    "    "
   ]
  },
  {
   "cell_type": "code",
   "execution_count": 6,
   "id": "b8d77dc7",
   "metadata": {},
   "outputs": [
    {
     "name": "stdout",
     "output_type": "stream",
     "text": [
      "['Oil paint & spray paint on board', '30 X40 cm', '']\n",
      "['30 X40 cm']\n"
     ]
    }
   ],
   "source": [
    "dim = 'Oil paint & spray paint on board,30 X40 cm,'\n",
    "splitted_dim = re.split(',', dim)\n",
    "print(splitted_dim)\n",
    "\n",
    "height = filter(lambda x: bool(re.search(r'\\d+\\s*\\d+', x)), splitted_dim)\n",
    "result = list(height)\n",
    "print(result)"
   ]
  },
  {
   "cell_type": "code",
   "execution_count": 8,
   "id": "68c1ba13",
   "metadata": {},
   "outputs": [
    {
     "name": "stdout",
     "output_type": "stream",
     "text": [
      "['30 X40 cm']\n",
      "['40.7 x 50.8']\n",
      "['100cm x 80cm']\n",
      "[]\n",
      "[]\n",
      "['40x50cm']\n",
      "[]\n",
      "['40.7 x 50.8']\n",
      "['40.7 x 50.8']\n",
      "['40.7 x 50.8']\n",
      "['40.9 x 50.2']\n",
      "['40.7 x 50.8']\n",
      "['75\\xa0x 89\\xa0cm']\n",
      "['90x120 cm']\n",
      "['75 x 88']\n",
      "['90x120 cm']\n",
      "['74 x 88 cm']\n",
      "['40cm x 50cm']\n",
      "['42x34cm']\n",
      "['16cm x 14cm']\n"
     ]
    }
   ],
   "source": [
    "for dim in df['height_cm']:\n",
    "    splitted_dim = re.split(',', dim)\n",
    "    #print(splitted_dim)\n",
    "    height = filter(\n",
    "        lambda x: bool(re.search(r'\\d+\\s*(?:[cC][mM])?\\s*[xX]\\s*\\d+\\s*(?:[cC][mM])?', x)), splitted_dim)\n",
    "    result = list(height)\n",
    "    print(len(result)\n"
   ]
  },
  {
   "cell_type": "code",
   "execution_count": 44,
   "id": "aa352f40",
   "metadata": {},
   "outputs": [
    {
     "name": "stdout",
     "output_type": "stream",
     "text": [
      "30 X40 cm\n",
      "\n",
      "['30 ', '40 cm']\n",
      "30.0\n",
      "\n",
      "40.7 x 50.8\n",
      "\n",
      "['40.7 ', ' 50.8']\n",
      "40.7\n",
      "\n",
      "100cm x 80cm\n",
      "\n",
      "['100cm ', ' 80cm']\n",
      "100.0\n",
      "\n",
      "60cm  diam \n",
      "\n",
      "60.0\n",
      "60cm  diam \n",
      "\n",
      "60.0\n",
      "40x50cm\n",
      "\n",
      "['40', '50cm']\n",
      "40.0\n",
      "\n",
      "60cm  diam \n",
      "\n",
      "60.0\n",
      "40.7 x 50.8\n",
      "\n",
      "['40.7 ', ' 50.8']\n",
      "40.7\n",
      "\n",
      "40.7 x 50.8\n",
      "\n",
      "['40.7 ', ' 50.8']\n",
      "40.7\n",
      "\n",
      "40.7 x 50.8\n",
      "\n",
      "['40.7 ', ' 50.8']\n",
      "40.7\n",
      "\n",
      "40.9 x 50.2\n",
      "\n",
      "['40.9 ', ' 50.2']\n",
      "40.9\n",
      "\n",
      "40.7 x 50.8\n",
      "\n",
      "['40.7 ', ' 50.8']\n",
      "40.7\n",
      "\n",
      "75 x 89 cm\n",
      "\n",
      "['75\\xa0', ' 89\\xa0cm']\n",
      "75.0\n",
      "\n",
      "90x120 cm\n",
      "\n",
      "['90', '120 cm']\n",
      "90.0\n",
      "\n",
      "75 x 88\n",
      "\n",
      "['75 ', ' 88']\n",
      "75.0\n",
      "\n",
      "90x120 cm\n",
      "\n",
      "['90', '120 cm']\n",
      "90.0\n",
      "\n",
      "74 x 88 cm\n",
      "\n",
      "['74 ', ' 88 cm']\n",
      "74.0\n",
      "\n",
      "40cm x 50cm\n",
      "\n",
      "['40cm ', ' 50cm']\n",
      "40.0\n",
      "\n",
      "42x34cm\n",
      "\n",
      "['42', '34cm']\n",
      "42.0\n",
      "\n",
      "16cm x 14cm\n",
      "\n",
      "['16cm ', ' 14cm']\n",
      "16.0\n",
      "\n"
     ]
    }
   ],
   "source": [
    "for dim in df['height_cm']:\n",
    "    splitted_dim = re.split(',', dim)\n",
    "    for element in splitted_dim:\n",
    "        if bool(re.search(r'\\d+\\s*(?:[cC][mM])?\\s*[xX]\\s*\\d+\\s*(?:[cC][mM])?', element)):\n",
    "            print(element)\n",
    "            char_list = re.split('[xX]', element)\n",
    "            print()\n",
    "            print(char_list)\n",
    "            print(float(re.sub(r'[^\\d.]+', '', char_list[0])))\n",
    "            print()\n",
    "        elif bool(re.search(r'\\d+\\s*(?:[cC][mM])\\s*(?:diam\\s*)?', element)):\n",
    "            print(element)\n",
    "            print()\n",
    "            char_list = re.split(' ', element)\n",
    "            print(float(re.sub(r'[^\\d.]+', '', char_list[0])))\n",
    "            \n",
    "        \n",
    "        #r'\\d+\\s*(?:[cC][mM])?\\s*[xX]\\s*\\d+\\s*(?:[cC][mM])?'"
   ]
  },
  {
   "cell_type": "code",
   "execution_count": 45,
   "id": "bb635d83",
   "metadata": {},
   "outputs": [
    {
     "name": "stdout",
     "output_type": "stream",
     "text": [
      "30 X40 cm\n",
      "\n",
      "['30 ', '40 cm']\n",
      "30.0\n",
      "\n",
      "40.7 x 50.8\n",
      "\n",
      "['40.7 ', ' 50.8']\n",
      "40.7\n",
      "\n",
      "100cm x 80cm\n",
      "\n",
      "['100cm ', ' 80cm']\n",
      "100.0\n",
      "\n",
      "60cm  diam \n",
      "\n",
      "60.0\n",
      "60cm  diam \n",
      "\n",
      "60.0\n",
      "40x50cm\n",
      "\n",
      "['40', '50cm']\n",
      "40.0\n",
      "\n",
      "60cm  diam \n",
      "\n",
      "60.0\n",
      "40.7 x 50.8\n",
      "\n",
      "['40.7 ', ' 50.8']\n",
      "40.7\n",
      "\n",
      "40.7 x 50.8\n",
      "\n",
      "['40.7 ', ' 50.8']\n",
      "40.7\n",
      "\n",
      "40.7 x 50.8\n",
      "\n",
      "['40.7 ', ' 50.8']\n",
      "40.7\n",
      "\n",
      "40.9 x 50.2\n",
      "\n",
      "['40.9 ', ' 50.2']\n",
      "40.9\n",
      "\n",
      "40.7 x 50.8\n",
      "\n",
      "['40.7 ', ' 50.8']\n",
      "40.7\n",
      "\n",
      "75 x 89 cm\n",
      "\n",
      "['75\\xa0', ' 89\\xa0cm']\n",
      "75.0\n",
      "\n",
      "90x120 cm\n",
      "\n",
      "['90', '120 cm']\n",
      "90.0\n",
      "\n",
      "75 x 88\n",
      "\n",
      "['75 ', ' 88']\n",
      "75.0\n",
      "\n",
      "90x120 cm\n",
      "\n",
      "['90', '120 cm']\n",
      "90.0\n",
      "\n",
      "74 x 88 cm\n",
      "\n",
      "['74 ', ' 88 cm']\n",
      "74.0\n",
      "\n",
      "40cm x 50cm\n",
      "\n",
      "['40cm ', ' 50cm']\n",
      "40.0\n",
      "\n",
      "42x34cm\n",
      "\n",
      "['42', '34cm']\n",
      "42.0\n",
      "\n",
      "16cm x 14cm\n",
      "\n",
      "['16cm ', ' 14cm']\n",
      "16.0\n",
      "\n"
     ]
    }
   ],
   "source": [
    "for dim in df['height_cm']:\n",
    "    splitted_dim = re.split(',', dim)\n",
    "    for element in splitted_dim:\n",
    "        if bool(re.search(r'\\d+\\s*(?:[cC][mM])?\\s*[xX]\\s*\\d+\\s*(?:[cC][mM])?', element)):\n",
    "            print(element)\n",
    "            char_list = re.split('[xX]', element)\n",
    "            print()\n",
    "            print(char_list)\n",
    "            print(float(re.sub(r'[^\\d.]+', '', char_list[0])))\n",
    "            print()\n",
    "        elif bool(re.search(r'\\d+\\s*(?:[cC][mM])\\s*(?:diam\\s*)?', element)):\n",
    "            print(element)\n",
    "            print()\n",
    "            char_list = re.split(' ', element)\n",
    "            print(float(re.sub(r'[^\\d.]+', '', char_list[0])))"
   ]
  },
  {
   "cell_type": "code",
   "execution_count": 62,
   "id": "637ba2b1",
   "metadata": {},
   "outputs": [],
   "source": [
    "string1 = 'Oil paint &\\xa0spray paint on board,30 X40 cm,\\xa0'\n",
    "string2 = 'Digital print under\\xa0acrylic with subframe,60cm \\xa0diam\\xa0,Edition of 10\\xa0,\\xa0'\n",
    "string3 = 'Digital print under\\xa0acrylic with subframe,60cm \\xa0diam\\xa0,Edition of 10\\xa0,\\xa0'\n",
    "string4 = 'Digital print under\\xa0acrylic with subframe,60cm \\xa0diam\\xa0,Edition of 10\\xa0,\\xa0'\n",
    "string5 = 'Oil with charcoal, watercolour and sand on canvas,100cm x 80cm,2019,£140 a month on the Own Art Scheme ,(please select offline payment in checkout),\\xa0,Photo credit\\xa0Steve Speller'"
   ]
  },
  {
   "cell_type": "code",
   "execution_count": 63,
   "id": "044ceb57",
   "metadata": {},
   "outputs": [],
   "source": [
    "def extract_height(raw_str):\n",
    "    splitted_raw_str = re.split(',', raw_str)\n",
    "    for element in splitted_raw_str:\n",
    "        if bool(re.search(r'\\d+\\s*(?:[cC][mM])?\\s*[xX]\\s*\\d+\\s*(?:[cC][mM])?', element)):\n",
    "            dim_list = re.split('[xX]', element)\n",
    "            return float(re.sub(r'[^\\d.]+', '', dim_list[0]))\n",
    "        elif bool(re.search(r'\\d+\\s*(?:[cC][mM])\\s*(?:diam\\s*)?', element)):\n",
    "            dim_list = re.split(' ', element)\n",
    "            return float(re.sub(r'[^\\d.]+', '', dim_list[0]))\n",
    "    "
   ]
  },
  {
   "cell_type": "code",
   "execution_count": 64,
   "id": "87063283",
   "metadata": {},
   "outputs": [
    {
     "data": {
      "text/plain": [
       "30.0"
      ]
     },
     "execution_count": 64,
     "metadata": {},
     "output_type": "execute_result"
    }
   ],
   "source": [
    "extract_height(string1)"
   ]
  },
  {
   "cell_type": "code",
   "execution_count": 65,
   "id": "7761a6a1",
   "metadata": {},
   "outputs": [
    {
     "data": {
      "text/plain": [
       "60.0"
      ]
     },
     "execution_count": 65,
     "metadata": {},
     "output_type": "execute_result"
    }
   ],
   "source": [
    "extract_height(string2)"
   ]
  },
  {
   "cell_type": "code",
   "execution_count": 66,
   "id": "b2695722",
   "metadata": {},
   "outputs": [
    {
     "data": {
      "text/plain": [
       "60.0"
      ]
     },
     "execution_count": 66,
     "metadata": {},
     "output_type": "execute_result"
    }
   ],
   "source": [
    "extract_height(string3)"
   ]
  },
  {
   "cell_type": "code",
   "execution_count": 67,
   "id": "2ccdc0e7",
   "metadata": {},
   "outputs": [
    {
     "data": {
      "text/plain": [
       "60.0"
      ]
     },
     "execution_count": 67,
     "metadata": {},
     "output_type": "execute_result"
    }
   ],
   "source": [
    "extract_height(string4)"
   ]
  },
  {
   "cell_type": "code",
   "execution_count": 68,
   "id": "9758f9de",
   "metadata": {},
   "outputs": [
    {
     "data": {
      "text/plain": [
       "100.0"
      ]
     },
     "execution_count": 68,
     "metadata": {},
     "output_type": "execute_result"
    }
   ],
   "source": [
    "extract_height(string5)"
   ]
  },
  {
   "cell_type": "code",
   "execution_count": 75,
   "id": "0aba71cb",
   "metadata": {},
   "outputs": [],
   "source": [
    "def extract_width(raw_str):\n",
    "    splitted_raw_str = re.split(',', raw_str)\n",
    "    for element in splitted_raw_str:\n",
    "        if bool(re.search(r'\\d+\\s*(?:[cC][mM])?\\s*[xX]\\s*\\d+\\s*(?:[cC][mM])?', element)):\n",
    "            dim_list = re.split('[xX]', element)\n",
    "            return float(re.sub(r'[^\\d.]+', '', dim_list[1]))\n",
    "        elif bool(re.search(r'\\d+\\s*(?:[cC][mM])\\s*(?:diam\\s*)?', element)):\n",
    "            dim_list = re.split(' ', element)\n",
    "            return float('NaN')\n",
    "            #return float(re.sub(r'[^\\d.]+', '', dim_list[1]))"
   ]
  },
  {
   "cell_type": "code",
   "execution_count": 90,
   "id": "0d29528d",
   "metadata": {},
   "outputs": [
    {
     "data": {
      "text/plain": [
       "40.0"
      ]
     },
     "execution_count": 90,
     "metadata": {},
     "output_type": "execute_result"
    }
   ],
   "source": [
    "extract_width(string1)"
   ]
  },
  {
   "cell_type": "code",
   "execution_count": 91,
   "id": "833d081e",
   "metadata": {},
   "outputs": [
    {
     "data": {
      "text/plain": [
       "nan"
      ]
     },
     "execution_count": 91,
     "metadata": {},
     "output_type": "execute_result"
    }
   ],
   "source": [
    "extract_width(string2)"
   ]
  },
  {
   "cell_type": "code",
   "execution_count": 92,
   "id": "7d00108c",
   "metadata": {},
   "outputs": [
    {
     "data": {
      "text/plain": [
       "nan"
      ]
     },
     "execution_count": 92,
     "metadata": {},
     "output_type": "execute_result"
    }
   ],
   "source": [
    "extract_width(string3)"
   ]
  },
  {
   "cell_type": "code",
   "execution_count": 93,
   "id": "33fc7cfc",
   "metadata": {},
   "outputs": [
    {
     "data": {
      "text/plain": [
       "nan"
      ]
     },
     "execution_count": 93,
     "metadata": {},
     "output_type": "execute_result"
    }
   ],
   "source": [
    "extract_width(string4)"
   ]
  },
  {
   "cell_type": "code",
   "execution_count": 94,
   "id": "456ae0a8",
   "metadata": {},
   "outputs": [
    {
     "data": {
      "text/plain": [
       "80.0"
      ]
     },
     "execution_count": 94,
     "metadata": {},
     "output_type": "execute_result"
    }
   ],
   "source": [
    "extract_width(string5)"
   ]
  },
  {
   "cell_type": "code",
   "execution_count": 88,
   "id": "53574af8",
   "metadata": {},
   "outputs": [],
   "source": [
    "def extract_price (price_str):\n",
    "    return float(re.sub(r'[^\\d.]', '', price_str))"
   ]
  },
  {
   "cell_type": "code",
   "execution_count": 89,
   "id": "bd5a43cb",
   "metadata": {},
   "outputs": [
    {
     "name": "stdout",
     "output_type": "stream",
     "text": [
      "0.0\n",
      "490.0\n",
      "490.0\n",
      "490.0\n",
      "1400.0\n",
      "640.0\n",
      "400.0\n",
      "400.0\n",
      "400.0\n",
      "400.0\n",
      "340.0\n",
      "640.0\n",
      "640.0\n",
      "640.0\n",
      "1200.0\n",
      "1400.0\n",
      "1400.0\n",
      "640.0\n",
      "440.0\n",
      "340.0\n"
     ]
    }
   ],
   "source": [
    "for i in df['price_gbp']:\n",
    "    print(extract_price(i))"
   ]
  },
  {
   "cell_type": "code",
   "execution_count": 100,
   "id": "e6bfa31a",
   "metadata": {},
   "outputs": [
    {
     "data": {
      "text/plain": [
       "'Aluminium, Inkjet Vinyl Print,75\\xa0x 89\\xa0cm,2019,Edition of 1 (original artwork)'"
      ]
     },
     "execution_count": 100,
     "metadata": {},
     "output_type": "execute_result"
    }
   ],
   "source": [
    "str1 = df['media'][12]\n",
    "str1"
   ]
  },
  {
   "cell_type": "code",
   "execution_count": 98,
   "id": "a350da8a",
   "metadata": {},
   "outputs": [],
   "source": [
    " splitted_raw_str = re.split(',', str1)"
   ]
  },
  {
   "cell_type": "code",
   "execution_count": 99,
   "id": "162005b8",
   "metadata": {},
   "outputs": [
    {
     "data": {
      "text/plain": [
       "['Aluminium',\n",
       " ' Inkjet Vinyl Print',\n",
       " '75\\xa0x 89\\xa0cm',\n",
       " '2019',\n",
       " 'Edition of 1 (original artwork)']"
      ]
     },
     "execution_count": 99,
     "metadata": {},
     "output_type": "execute_result"
    }
   ],
   "source": [
    "splitted_raw_str"
   ]
  },
  {
   "cell_type": "code",
   "execution_count": 104,
   "id": "393817dd",
   "metadata": {},
   "outputs": [
    {
     "name": "stdout",
     "output_type": "stream",
     "text": [
      "['oil paint &\\xa0spray paint on board', '30 x40 cm', '\\xa0']\n",
      "\n",
      "oil paint & spray paint on board\n",
      "\n",
      "['digital print under\\xa0acrylic with subframe', '60cm \\xa0diam\\xa0', 'edition of 10\\xa0', '\\xa0']\n",
      "\n",
      "digital print under acrylic with subframe\n",
      "\n",
      "['digital print under\\xa0acrylic with subframe', '60cm \\xa0diam\\xa0', 'edition of 10\\xa0', '\\xa0']\n",
      "\n",
      "digital print under acrylic with subframe\n",
      "\n",
      "['digital print under\\xa0acrylic with subframe', '60cm \\xa0diam\\xa0', 'edition of 10\\xa0', '\\xa0']\n",
      "\n",
      "digital print under acrylic with subframe\n",
      "\n",
      "['oil with charcoal', ' watercolour and sand on canvas', '100cm x 80cm', '2019', '£140 a month on the own art scheme ', '(please select offline payment in checkout)', '\\xa0', 'photo credit\\xa0steve speller']\n",
      "\n",
      "oil with charcoal\n",
      "\n",
      "['oil on canvas with charcoal', ' watercolour and pencil', '40x50cm', '\\xa0', '£64 a month on the ', 'own art scheme', 'email ', 'info@bearspace.co.uk', ' to apply online', ' available accross our range']\n",
      "\n",
      "oil on canvas with charcoal,  watercolour and pencil\n",
      "\n",
      "['inkjet print (hahnemuhle ultra-smooth)', '40.7 x 50.8', '2019', 'edition of 5', 'shown with optional frame available at additional cost']\n",
      "\n",
      "inkjet print (hahnemuhle ultra-smooth)\n",
      "\n",
      "['inkjet print (hahnemuhle ultra-smooth)', '40.7 x 50.8', '2019', 'edition of 5', 'shown with optional frame available at additional cost']\n",
      "\n",
      "inkjet print (hahnemuhle ultra-smooth)\n",
      "\n",
      "['inkjet print (hahnemuhle ultra-smooth)', '40.7 x 50.8', '2019', 'edition of 5', 'shown with optional frame available at additional cost']\n",
      "\n",
      "inkjet print (hahnemuhle ultra-smooth)\n",
      "\n",
      "['inkjet print (hahnemuhle ultra-smooth)', '40.7 x 50.8', '2019', 'edition of 5', 'shown with optional frame available at additional cost']\n",
      "\n",
      "inkjet print (hahnemuhle ultra-smooth)\n",
      "\n",
      "['inkjet print (hahnemuhle ultra-smooth)', '40.7 x 50.8', '2019', 'edition of 5', 'shown with optional frame available at additional cost']\n",
      "\n",
      "inkjet print (hahnemuhle ultra-smooth)\n",
      "\n",
      "['aluminium', ' inkjet vinyl print', '74 x 88 cm', '2019', 'edition of 1 (original artwork)']\n",
      "\n",
      " inkjet vinyl print\n",
      "\n",
      "['aluminium', ' inkjet vinyl print', '75\\xa0x 89\\xa0cm', '2019', 'edition of 1 (original artwork)']\n",
      "\n",
      " inkjet vinyl print\n",
      "\n",
      "['aluminium', ' inkjet vinyl print', '75 x 88', '2019', 'edition of 1 (original artwork)']\n",
      "\n",
      " inkjet vinyl print\n",
      "\n",
      "['set of four', 'beech', ' mdf', ' acrylic paint', ' vinyl', '40.9 x 50.2', 'edition of 1 (original artwork)']\n",
      "\n",
      "beech,  mdf,  acrylic paint,  vinyl\n",
      "\n",
      "['archival digital print on canvas with dissolved canvas', '90x120 cm', '2018', 'edition of 5', '\\xa0', '\\xa0']\n",
      "\n",
      "archival digital print on canvas with dissolved canvas\n",
      "\n",
      "['archival digital print on canvas with dissolved canvas', '90x120 cm', '2018', 'edition of 5', '\\xa0', '\\xa0']\n",
      "\n",
      "archival digital print on canvas with dissolved canvas\n",
      "\n",
      "['oil with charcoal', ' watercolour and pencil on canvas', '40cm x 50cm', '\\xa0', 'photo credit: steve speller']\n",
      "\n",
      "oil with charcoal,  watercolour and pencil on canvas\n",
      "\n",
      "['16cm x 14cm', '24k gold leaf', ' crystal', ' iron and white and grey casting cement.', '\\xa0', '£44 a month on the own art scheme', ' 0% interest loan over 10 month', ' please ', 'email', ' for details', '\\xa0', 'cast in fine white and grey cement this piece has had ink applied to create texture to the surface. a piece of crystal enclusted black cement is adhered to the work. the finely extruded white cement contains iron which gives the rich patina of blue green and rust. the piece is finished with 24k goldleaf inlays.', '\\xa0', 'photo credit: laura hutchinson']\n",
      "\n",
      "24k gold leaf,  crystal,  iron and white and grey casting cement., cast in fine white and grey cement this piece has had ink applied to create texture to the surface. a piece of crystal enclusted black cement is adhered to the work. the finely extruded white cement contains iron which gives the rich patina of blue green and rust. the piece is finished with 24k goldleaf inlays.\n",
      "\n",
      "['oil paint', ' spray paint & gold leaf on board', '42x34cm', '2019']\n",
      "\n",
      "oil paint,  spray paint & gold leaf on board\n",
      "\n"
     ]
    }
   ],
   "source": [
    "media_words = ['board','vinyl','acrylic','wood','veneers','card','spraypaint','sculpture','charcoal'\n",
    "               'canvas','crystal','iron','inkjet','laser','paper','pencil','cement','gold','watercolour'\n",
    "               'aluminium','oil','ink','digital','copper','procelain','wire','mixed','viynl','print','mdf','beech']\n",
    "\n",
    "for raw_str in df['media']:\n",
    "    raw_str_lower = raw_str.lower()\n",
    "    splitted_raw_str = re.split(',', raw_str_lower)\n",
    "    print(splitted_raw_str)\n",
    "    print()\n",
    "    matching_strs = [string for string in splitted_raw_str \n",
    "                     if any(word in string for word in media_words)]\n",
    "    if matching_strs:\n",
    "        out_str = \", \".join(matching_strs)\n",
    "        print(out_str)\n",
    "        print()\n",
    "    \n",
    "    \n",
    "    "
   ]
  },
  {
   "cell_type": "code",
   "execution_count": null,
   "id": "42df5ee3",
   "metadata": {},
   "outputs": [],
   "source": []
  }
 ],
 "metadata": {
  "kernelspec": {
   "display_name": "Python 3 (ipykernel)",
   "language": "python",
   "name": "python3"
  },
  "language_info": {
   "codemirror_mode": {
    "name": "ipython",
    "version": 3
   },
   "file_extension": ".py",
   "mimetype": "text/x-python",
   "name": "python",
   "nbconvert_exporter": "python",
   "pygments_lexer": "ipython3",
   "version": "3.9.12"
  }
 },
 "nbformat": 4,
 "nbformat_minor": 5
}
